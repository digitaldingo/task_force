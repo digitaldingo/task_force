{
 "metadata": {
  "name": "",
  "signature": "sha256:07179b7a222ebf048e44a20cb4b46735b172358781a6ab6515258f51300bca19"
 },
 "nbformat": 3,
 "nbformat_minor": 0,
 "worksheets": [
  {
   "cells": [
    {
     "cell_type": "heading",
     "level": 1,
     "metadata": {},
     "source": [
      "Primtal"
     ]
    },
    {
     "cell_type": "markdown",
     "metadata": {},
     "source": [
      "Husk at et primtal er et heltal $p$ st\u00f8rre end $1$ s\u00e5dan at de eneste faktorer i $p$ er $1$ og $p$ selv."
     ]
    },
    {
     "cell_type": "markdown",
     "metadata": {},
     "source": [
      "Nedenfor definerer vi en funktion til at teste om et vilk\u00e5rligt heltal er et primtal. Hvordan virker funktionen? Hvorfor er det nok at vi ikke tester for alle $i$ mindre end $n$?"
     ]
    },
    {
     "cell_type": "code",
     "collapsed": false,
     "input": [
      "def isPrime(n):\n",
      "    if n<2: \n",
      "        return False # et primtal kan ikke v\u00e6re mindre end 2.\n",
      "    for i in range(2,int(n**0.5)+1,1): # vi tester for hvert i mellem 2 og kvadratroden af n om i er divisor af n. \n",
      "        if n%i==0:\n",
      "            return False\n",
      "    return True"
     ],
     "language": "python",
     "metadata": {},
     "outputs": [],
     "prompt_number": 1
    },
    {
     "cell_type": "markdown",
     "metadata": {},
     "source": [
      "Vi kan nu teste om et bestemt tal er et primtal p\u00e5 f\u00f8lgende m\u00e5de:"
     ]
    },
    {
     "cell_type": "code",
     "collapsed": false,
     "input": [
      "print(isPrime(2))"
     ],
     "language": "python",
     "metadata": {},
     "outputs": [
      {
       "output_type": "stream",
       "stream": "stdout",
       "text": [
        "True\n"
       ]
      }
     ],
     "prompt_number": 2
    },
    {
     "cell_type": "code",
     "collapsed": false,
     "input": [
      "print(isPrime(178143))"
     ],
     "language": "python",
     "metadata": {},
     "outputs": [
      {
       "output_type": "stream",
       "stream": "stdout",
       "text": [
        "False\n"
       ]
      }
     ],
     "prompt_number": 3
    },
    {
     "cell_type": "code",
     "collapsed": false,
     "input": [
      "print(isPrime(612343237489))"
     ],
     "language": "python",
     "metadata": {},
     "outputs": [
      {
       "output_type": "stream",
       "stream": "stdout",
       "text": [
        "True\n"
       ]
      }
     ],
     "prompt_number": 4
    },
    {
     "cell_type": "code",
     "collapsed": false,
     "input": [
      "print(isPrime(45912343237124489))"
     ],
     "language": "python",
     "metadata": {},
     "outputs": [
      {
       "output_type": "stream",
       "stream": "stdout",
       "text": [
        "False\n"
       ]
      }
     ],
     "prompt_number": 5
    },
    {
     "cell_type": "markdown",
     "metadata": {},
     "source": [
      "Ville det v\u00e6re muligt at teste primalitet hurtigere end p\u00e5 ovenst\u00e5ende m\u00e5de? Hvordan kunne vi forbedre vores test?\n",
      "\n",
      "Der bliver stadig arbejdet p\u00e5 primalitetstest i forskningen i dag. Den f\u00f8rste algoritme der var betydeligt hurtigere end metoder ligesom vores ovenp\u00e5 blev kun udviklet i 1983 og det var kun i 2002 at det blev bevist at problemet kunne l\u00f8ses i polynomiel tid. \n",
      "\n",
      "Pr\u00f8v nedenfor at forbedre vores primalitetstest. Hvordan kan vi g\u00f8re den hurtigere?"
     ]
    },
    {
     "cell_type": "code",
     "collapsed": false,
     "input": [
      "for i in range(2,20,3): # Pr\u00f8v at forst\u00e5 hvad der sker i denne for l\u00f8kke. Kan det m\u00e5ske bruges til at forbedre vores test?\n",
      "    print(i)"
     ],
     "language": "python",
     "metadata": {},
     "outputs": [
      {
       "output_type": "stream",
       "stream": "stdout",
       "text": [
        "2\n",
        "5\n",
        "8\n",
        "11\n",
        "14\n",
        "17\n"
       ]
      }
     ],
     "prompt_number": 6
    },
    {
     "cell_type": "code",
     "collapsed": false,
     "input": [
      "def isPrimeImproved(n):\n",
      "    if n<2:\n",
      "        return False\n",
      "    for i in range(2,int(n**0.5)+1,1):  \n",
      "        if n%i==0:\n",
      "            return False\n",
      "    return True"
     ],
     "language": "python",
     "metadata": {},
     "outputs": [],
     "prompt_number": 7
    },
    {
     "cell_type": "heading",
     "level": 1,
     "metadata": {},
     "source": [
      "Primtalsgeneratorer"
     ]
    },
    {
     "cell_type": "markdown",
     "metadata": {},
     "source": [
      "Siden primtal er s\u00e5 vigtige ville det v\u00e6re nyttigt hvis vi nemt kunne generere nye primtal. Vi vil nu kigge p\u00e5 funktioner som forh\u00e5bentligt kan generere primtal."
     ]
    },
    {
     "cell_type": "heading",
     "level": 2,
     "metadata": {},
     "source": [
      "Fermat tal"
     ]
    },
    {
     "cell_type": "markdown",
     "metadata": {},
     "source": [
      "Fermat tal er tal af formen $2^{2^n}+1$ for $n$ et naturligt tal. Fermat h\u00e6vdede i 1650 at alle Fermat tal var primtal. Det tog mere end 80 \u00e5r for matematikere at afg\u00f8re om det var sandt. I skal nu i de n\u00e6ste 2 minutter afg\u00f8re om det er sandt. "
     ]
    },
    {
     "cell_type": "code",
     "collapsed": false,
     "input": [
      "def fermatNumber(n):\n",
      "    return 2**2**n+1"
     ],
     "language": "python",
     "metadata": {},
     "outputs": [],
     "prompt_number": 8
    },
    {
     "cell_type": "markdown",
     "metadata": {},
     "source": [
      "Pr\u00f8v i nedenst\u00e5ende celle at \u00e6ndre p\u00e5 v\u00e6rdien af $k$. Kan i finde et modeksempel?"
     ]
    },
    {
     "cell_type": "code",
     "collapsed": false,
     "input": [
      "k=4\n",
      "print(fermatNumber(k))\n",
      "print(isPrime(fermatNumber(k)))"
     ],
     "language": "python",
     "metadata": {},
     "outputs": [
      {
       "output_type": "stream",
       "stream": "stdout",
       "text": [
        "65537\n",
        "True\n"
       ]
      }
     ],
     "prompt_number": 9
    },
    {
     "cell_type": "heading",
     "level": 2,
     "metadata": {},
     "source": [
      "$n^2-n+41$"
     ]
    },
    {
     "cell_type": "markdown",
     "metadata": {},
     "source": [
      "Vi pr\u00f8ver nu at teste om udtryk af formen $n^2-n+41$ altid er primtal, hvor $n$ er et naturligt tal."
     ]
    },
    {
     "cell_type": "code",
     "collapsed": false,
     "input": [
      "def possiblePrimeGenerator(n):\n",
      "    return n**2-n+41"
     ],
     "language": "python",
     "metadata": {},
     "outputs": [],
     "prompt_number": 10
    },
    {
     "cell_type": "code",
     "collapsed": false,
     "input": [
      "n=4;\n",
      "print(possiblePrimeGenerator(n));\n",
      "print(isPrime(possiblePrimeGenerator(n)));"
     ],
     "language": "python",
     "metadata": {},
     "outputs": [
      {
       "output_type": "stream",
       "stream": "stdout",
       "text": [
        "53\n",
        "True\n"
       ]
      }
     ],
     "prompt_number": 11
    },
    {
     "cell_type": "code",
     "collapsed": false,
     "input": [
      "for i in range(1,14):\n",
      "    print(possiblePrimeGenerator(i))\n",
      "    print(isPrime(possiblePrimeGenerator(i)));"
     ],
     "language": "python",
     "metadata": {},
     "outputs": [
      {
       "output_type": "stream",
       "stream": "stdout",
       "text": [
        "41\n",
        "True\n",
        "43\n",
        "True\n",
        "47\n",
        "True\n",
        "53\n",
        "True\n",
        "61\n",
        "True\n",
        "71\n",
        "True\n",
        "83\n",
        "True\n",
        "97\n",
        "True\n",
        "113\n",
        "True\n",
        "131\n",
        "True\n",
        "151\n",
        "True\n",
        "173\n",
        "True\n",
        "197\n",
        "True\n"
       ]
      }
     ],
     "prompt_number": 12
    },
    {
     "cell_type": "markdown",
     "metadata": {},
     "source": [
      "Det ser ud til at denne funktion i mods\u00e6tning til Fermat tallene kan bruges til at generere primtal. Tror i det g\u00e6lder generelt? Kan i begrunde det?"
     ]
    },
    {
     "cell_type": "heading",
     "level": 1,
     "metadata": {},
     "source": [
      "Kryptografi"
     ]
    },
    {
     "cell_type": "markdown",
     "metadata": {},
     "source": [
      "Vi kan repr\u00e6sentere de 29 bogstaver i det danske alfabet som tal fra 0 til 29 i alfabetisk r\u00e6kkef\u00f8lge. Dvs at vi har:\n",
      "a = 0\n",
      "b = 1\n",
      ".\n",
      ".\n",
      ".\n",
      "\u00e5 = 29\n",
      "S\u00e5 vil ordet 'datalogi' for eksempel kunne repr\u00e6senteres som: 3 0 19 0 11 13 6 8"
     ]
    },
    {
     "cell_type": "heading",
     "level": 2,
     "metadata": {},
     "source": [
      "C\u00e6sar's kodning"
     ]
    },
    {
     "cell_type": "markdown",
     "metadata": {},
     "source": [
      "C\u00e6sar's kodning er et simpelt eksempel p\u00e5 en krypteringstransformation. I C\u00e6sar's kodning adderer vi bare et tal $k$ til de tal der repr\u00e6senterer vores ord. \n",
      "\n",
      "For eksempel kan ordet 'datalogi' repr\u00e6senteres som: 3 0 19 0 11 13 6 8\n",
      "\n",
      "Hvis vi nu adderer 3 til hvert tal f\u00e5r vi tallene: 6 3 22 3 14 16 9 11\n",
      "\n",
      "svarende til: gdwdoqjl\n",
      "\n",
      "Det er ikke sv\u00e6rt at f\u00e5 vores oprindelige tekst tilbage. Hvad skal vi g\u00f8re?\n",
      "\n",
      "Hvad ville der ske hvis vi i stedet pr\u00f8vede at addere 12 til hvert tal? Er der noget vi har talt om i dag som kunne bruges for at h\u00e5ndtere problemet?"
     ]
    },
    {
     "cell_type": "heading",
     "level": 2,
     "metadata": {},
     "source": [
      "RSA"
     ]
    },
    {
     "cell_type": "markdown",
     "metadata": {},
     "source": [
      "RSA er et krypteringssystem baseret p\u00e5 offentlige n\u00f8gler. Det betyder at jeg for eksempel kan udlevere en offentlig n\u00f8gle som fort\u00e6ller andre hvordan de skal kryptere deres besked til mig s\u00e5dan at jeg er den eneste der kan dekryptere besked. Modsat C\u00e6sar's kodning er sikkerheden af systemet alts\u00e5 bevaret selvom man ved hvordan krypteringen skal foreg\u00e5. \n",
      "\n",
      "Nedenfor ser vi et meget simpelt eksempel p\u00e5 hvordan RSA virker. Nedenst\u00e5ende udregninger kommer nok til at forekomme meget umotiverede. Det er ikke vigtigt at i forst\u00e5r hvor tallene kommer fra.\n",
      "\n",
      "Vi v\u00e6lger f\u00f8rst to primtal $p$ og $q$ og finder s\u00e5 deres produkt $n$. S\u00e5 definerer vi et nyt tal $m$ som er produktet af $p-1$ og $q-1$. Til sidst finder vi s\u00e5 et tal $e$ som er mindre end $m$ og primisk med $m$.\n"
     ]
    },
    {
     "cell_type": "code",
     "collapsed": false,
     "input": [
      "p=61\n",
      "q=53\n",
      "n=p*q\n",
      "m=(p-1)*(q-1)\n",
      "e=17"
     ],
     "language": "python",
     "metadata": {},
     "outputs": [],
     "prompt_number": 13
    },
    {
     "cell_type": "markdown",
     "metadata": {},
     "source": [
      "De to tal $n=3233$ og $e=17$ udg\u00f8r nu sammen vores offentlige n\u00f8gle og kan bruges til at kryptere en besked. Hvis vi for eksempel vil kryptere bogstavet $w$ repr\u00e6senteret ved tallet 22, kan vi udregne:"
     ]
    },
    {
     "cell_type": "code",
     "collapsed": false,
     "input": [
      "encryptedMessage = 22**17%n\n",
      "print(encryptedMessage)"
     ],
     "language": "python",
     "metadata": {},
     "outputs": [
      {
       "output_type": "stream",
       "stream": "stdout",
       "text": [
        "2558\n"
       ]
      }
     ],
     "prompt_number": 14
    },
    {
     "cell_type": "markdown",
     "metadata": {},
     "source": [
      "Vores krypterede besked er alts\u00e5 2558. Det er desv\u00e6rre for s\u00e5 lille en $n$ v\u00e6rdi ikke sv\u00e6rt at bryde koden. Vi kan finde den hemmelige del af RSA n\u00f8glen som bruges til at dekryptere beskeden meget nemt"
     ]
    },
    {
     "cell_type": "code",
     "collapsed": false,
     "input": [
      "for i in range(0,m):\n",
      "    if (i*e%m==1):\n",
      "        print(i)"
     ],
     "language": "python",
     "metadata": {},
     "outputs": [
      {
       "output_type": "stream",
       "stream": "stdout",
       "text": [
        "2753\n"
       ]
      }
     ],
     "prompt_number": 15
    },
    {
     "cell_type": "code",
     "collapsed": false,
     "input": [
      "print(2558**2753%n)"
     ],
     "language": "python",
     "metadata": {},
     "outputs": [
      {
       "output_type": "stream",
       "stream": "stdout",
       "text": [
        "22\n"
       ]
      }
     ],
     "prompt_number": 16
    },
    {
     "cell_type": "markdown",
     "metadata": {},
     "source": [
      "Vi har dermed dekrypteret den oprindelige besked og f\u00e5et tallet 22 tilbage som repr\u00e6senterer bogstavet $w$."
     ]
    },
    {
     "cell_type": "markdown",
     "metadata": {},
     "source": [
      "For at undg\u00e5 at systemet s\u00e5 nemt kan bryges bruges i RSA meget store tal. tallet $n$ beskrevet ovenfor kan for eksempel v\u00e6re af st\u00f8rrelsesorden $10^{120}$. Til sammenligning er $10^{82}$ en \u00f8vre gr\u00e6nse for antallet af atomer i det observerbare univers.\n",
      "\n",
      "I de ovenst\u00e5ende udregninger har vi ogs\u00e5 valgt en meget d\u00e5rlig m\u00e5de at repr\u00e6sentere vores besked p\u00e5, ved at betragte hvert bogstav som et tal. Hvorfor er dette problematisk, og hvad kunne man i stedet g\u00f8re?"
     ]
    },
    {
     "cell_type": "code",
     "collapsed": false,
     "input": [],
     "language": "python",
     "metadata": {},
     "outputs": [],
     "prompt_number": 16
    }
   ],
   "metadata": {}
  }
 ]
}