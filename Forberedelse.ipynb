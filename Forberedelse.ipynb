{
 "metadata": {
  "name": "",
  "signature": "sha256:2fe863a7783b21fa9ce401147ca3498d22570b208ef2e61ffccaa43275e624af"
 },
 "nbformat": 3,
 "nbformat_minor": 0,
 "worksheets": [
  {
   "cells": [
    {
     "cell_type": "markdown",
     "metadata": {},
     "source": [
      "# Introduktion til IPython Notebooks\n",
      "Her f\u00f8lger en kort introduktion til IPython Notebooks. Det er vigtigt at du afpr\u00f8ver *det hele*, da koden samtidig tjekker, at dit system er sat korrekt op.\n",
      "\n",
      "Hvis du st\u00f8der p\u00e5 problemer, er det dit eget ansvar at f\u00e5 dem l\u00f8st inden timen begynder. Husk at Google er din ven! De fleste problemer kan dog l\u00f8ses ved at geninstallere Anaconda (husk at bruge version 3.4 eller h\u00f8jere!).\n",
      "\n",
      "\n",
      "## K\u00f8rsel af kode\n",
      "En kodeblok k\u00f8res ved at markere den og trykke `[Shift] + [Enter]`. Pr\u00f8v at k\u00f8re blokken herunder, som vil printe information om din version af Python samt tjekke, at det er den rigtige."
     ]
    },
    {
     "cell_type": "code",
     "collapsed": false,
     "input": [
      "import sys\n",
      "\n",
      "print(sys.version)\n",
      "v = sys.version_info\n",
      "\n",
      "if v[0] < 3:\n",
      "    print(\"Du skal bruge Python 3.x for at k\u00f8re opgaverne!\")\n",
      "else:\n",
      "    print(\"Din Python-version er helt rigtig! Godt g\u00e5et!\")"
     ],
     "language": "python",
     "metadata": {},
     "outputs": []
    },
    {
     "cell_type": "markdown",
     "metadata": {},
     "source": [
      "## Tjek af pakker\n",
      "F\u00f8lgende kode vil tjekke, at du har de n\u00f8dvendige pakker for at kunne k\u00f8re opgaverne. Der burde ikke v\u00e6re nogle problemer her, hvis du har installeret Anaconda."
     ]
    },
    {
     "cell_type": "code",
     "collapsed": false,
     "input": [
      "missing_packages = []\n",
      "try:\n",
      "    import numpy as np\n",
      "except ImportError:\n",
      "    missing_packages.append(\"numpy\")\n",
      "\n",
      "try:\n",
      "    import pandas\n",
      "except ImportError:\n",
      "    missing_packages.append(\"Pandas\")\n",
      "\n",
      "try:\n",
      "    import skimage\n",
      "except ImportError:\n",
      "    missing_packages.append(\"scikit-image\")\n",
      "\n",
      "try:\n",
      "    import sklearn\n",
      "except ImportError:\n",
      "    missing_packages.append(\"scikit-learn\")\n",
      "    \n",
      "try:\n",
      "    import matplotlib\n",
      "except ImportError:\n",
      "    missing_packages.append(\"matplotlib\")\n",
      "\n",
      "\n",
      "if missing_packages:\n",
      "    print(\"Du mangler at installere f\u00f8lgende pakker: {}\".format(\", \".join(missing_packages)))\n",
      "else:\n",
      "    print(\"Du har alle pakker installeret! Knippelfint!\")"
     ],
     "language": "python",
     "metadata": {},
     "outputs": []
    },
    {
     "cell_type": "markdown",
     "metadata": {},
     "source": [
      "## Tjek af funktionalitet\n",
      "Sidste del af denne notebook tester nogle at de funktioner, vi skal bruge - prim\u00e6rt visualiseringsfunktioner. Tjek at det du ser, ligner det p\u00e5 denne side (p\u00e5 n\u00e6r de interaktive elementer): http://nbviewer.ipython.org/gist/digitaldingo/6cecc0e1a08ac1a51efa"
     ]
    },
    {
     "cell_type": "code",
     "collapsed": false,
     "input": [
      "import matplotlib.pyplot as plt\n",
      "%matplotlib inline\n",
      "plt.style.use('bmh')\n",
      "cmap = plt.cm.Set1\n",
      "cseq = [plt.cm.Set1(i) for i in np.linspace(0, 1, 9, endpoint=True)]\n",
      "plt.rcParams['axes.color_cycle'] = cseq\n",
      "\n",
      "from mpl_toolkits.mplot3d import axes3d\n",
      "\n",
      "fig = plt.figure(figsize=(10,7))\n",
      "ax = fig.gca(projection='3d')\n",
      "X, Y, Z = axes3d.get_test_data(0.05)\n",
      "ax.plot_surface(X, Y, Z, rstride=8, cstride=8, alpha=0.3)\n",
      "cset = ax.contour(X, Y, Z, zdir='z', offset=-100, cmap=plt.cm.coolwarm)\n",
      "cset = ax.contour(X, Y, Z, zdir='x', offset=-40, cmap=plt.cm.coolwarm)\n",
      "cset = ax.contour(X, Y, Z, zdir='y', offset=40, cmap=plt.cm.coolwarm)\n",
      "\n",
      "ax.set_xlabel('X')\n",
      "ax.set_xlim(-40, 40)\n",
      "ax.set_ylabel('Y')\n",
      "ax.set_ylim(-40, 40)\n",
      "ax.set_zlabel('Z')\n",
      "ax.set_zlim(-100, 100)"
     ],
     "language": "python",
     "metadata": {},
     "outputs": []
    },
    {
     "cell_type": "code",
     "collapsed": false,
     "input": [
      "from IPython.html import widgets\n",
      "from IPython.display import display\n",
      "from IPython.html.widgets import interact, interactive, fixed\n",
      "\n",
      "x = np.linspace(0,4*np.pi,200)\n",
      "\n",
      "@interact\n",
      "def plot_sin(x: fixed(x), A:(0,4,0.1)=1, theta:(0,10,0.1)=1, phi:(0,2*np.pi,0.1)=0):\n",
      "    y = A*np.sin(theta*x + phi)\n",
      "    fig, ax = plt.subplots(figsize=(10,6))\n",
      "    ax.plot(x,y)\n",
      "    ax.set_xlim(0,4*np.pi)\n",
      "    ax.set_ylim(-4,4)"
     ],
     "language": "python",
     "metadata": {},
     "outputs": []
    },
    {
     "cell_type": "code",
     "collapsed": false,
     "input": [
      "import matplotlib.cbook as cbook\n",
      "from skimage import filter, io\n",
      "\n",
      "image_file = cbook.get_sample_data('grace_hopper.png')\n",
      "i = plt.imread(image_file)\n",
      "\n",
      "lims = (0.0,1.0,0.01)\n",
      "\n",
      "@interact\n",
      "def edit_image(image: fixed(i), sigma:(0.0,20.0,0.1)=0.1, r:lims=1.0, g:lims=1.0, b:lims=1.0):\n",
      "    new_image = filter.gaussian_filter(image, sigma=sigma, multichannel=True)\n",
      "    new_image[:,:,0] = r*new_image[:,:,0]\n",
      "    new_image[:,:,1] = g*new_image[:,:,1]\n",
      "    new_image[:,:,2] = b*new_image[:,:,2]\n",
      "    new_image = io.Image(new_image)\n",
      "    display(new_image)\n",
      "    return new_image"
     ],
     "language": "python",
     "metadata": {},
     "outputs": []
    }
   ],
   "metadata": {}
  }
 ]
}