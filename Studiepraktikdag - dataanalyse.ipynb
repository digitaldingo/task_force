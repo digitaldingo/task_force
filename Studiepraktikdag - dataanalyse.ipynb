{
 "metadata": {
  "name": "",
  "signature": "sha256:45dbfc40ef1d6bfd2ce926ab6b4926b29437d4c3dcc027a6332aba23fca2cb1f"
 },
 "nbformat": 3,
 "nbformat_minor": 0,
 "worksheets": [
  {
   "cells": [
    {
     "cell_type": "code",
     "collapsed": false,
     "input": [
      "%pylab inline\n",
      "from ekstra_funktioner import *\n",
      "\n",
      "# F\u00f8lgende s\u00e6tter st\u00f8rrelsen af figurene (i tommer).\n",
      "# Du kan pr\u00f8ve at \u00e6ndre st\u00f8rrelsen, hvis figurene er for sm\u00e5 eller for store.\n",
      "pylab.rcParams['figure.figsize'] = (10.0, 6.0)"
     ],
     "language": "python",
     "metadata": {},
     "outputs": []
    },
    {
     "cell_type": "heading",
     "level": 1,
     "metadata": {},
     "source": [
      "Find en funktion"
     ]
    },
    {
     "cell_type": "markdown",
     "metadata": {},
     "source": [
      "Din mor fandt under oprydning af den gamle kommode et sp\u00e6ndende datas\u00e6t. Hun kunne rigtig godt t\u00e6nke sig at vide, hvordan den underliggende funktion, dataene kommer fra, ser ud, s\u00e5 hun har spurgt dig om hj\u00e6lp!\n",
      "\n",
      "Lad os starte med at tage et kig p\u00e5 dataene:"
     ]
    },
    {
     "cell_type": "code",
     "collapsed": false,
     "input": [
      "x,y = ukendte_data()\n",
      "plot_data(x,y)"
     ],
     "language": "python",
     "metadata": {},
     "outputs": []
    },
    {
     "cell_type": "heading",
     "level": 3,
     "metadata": {},
     "source": [
      "Opgave 1"
     ]
    },
    {
     "cell_type": "markdown",
     "metadata": {},
     "source": [
      "Hj\u00e6lp din mor med at finde den funktion, som dataene h\u00f8jst sandsynligt stammer fra.\n",
      "\n",
      "Start med at g\u00e6tte p\u00e5 familien af funktioner, du mener dataene kunne komme fra. Hvad er mulige bud? \n",
      "\n",
      "Det kan nogle gange v\u00e6re en hj\u00e6lp at pr\u00f8ve at plotte funktionerne. Du kan f.eks. plotte en sinusfunktion ved at skrive `plot(x, sin(x))`. Pr\u00f8v at teste nogle forskellige funktioner herunder og se, om du kan f\u00e5 dem til at passe med dataene."
     ]
    },
    {
     "cell_type": "code",
     "collapsed": false,
     "input": [
      "x2 = linspace(-10, 10, 200)   # Vi laver f\u00f8rst nogle x-v\u00e6rdier, vi kan \n",
      "                              # bruge til at plotte med. Her genereres \n",
      "                              # 200 punkter mellem -10 og 10.\n",
      "\n",
      "plot_data(x,y)                # Vi plotter dataene igen.\n",
      "plot(x2, 5*sin(x2 - 2))       # Plot en sinus-kurve.\n",
      "plot(x2, 3*cos(0.7*x2 + 2))   # Plot en cosinus-kurve.\n",
      "#plot(x2, ...) # Find selv p\u00e5 mere her!"
     ],
     "language": "python",
     "metadata": {},
     "outputs": []
    },
    {
     "cell_type": "heading",
     "level": 3,
     "metadata": {},
     "source": [
      "Opgave 2"
     ]
    },
    {
     "cell_type": "markdown",
     "metadata": {},
     "source": [
      "Din mor kommer nu i tanke om, at dataene kom fra et polynomium, men hun er helt blank p\u00e5 hvilken orden, polynomiet havde.\n",
      "\n",
      "Pr\u00f8v at teste polynomier af forskellige ordener. Koden herunder vil automatisk fitte polynomiet til dataene, s\u00e5 du beh\u00f8ver ikke bekymre dig om alle konstanterne.\n",
      "\n",
      "*Lidt mere forklaring af figuren:* Figuren viser to plots. \u00d8verst vises dataene og den funktion, du i \u00f8jeblikket har valgt. Nederst vises st\u00f8rrelsen (dvs. den absolutte v\u00e6rdi) af alle konstanterne (koefficienterne) i funktionsforskriften i form af et s\u00f8jlediagram. V\u00e6rdien, s\u00f8jlerne er centreret p\u00e5, fort\u00e6ller hvilket led, konstanten h\u00f8rer til - 0 svarer til konstantleddet, 1 til leddet med x osv. Med en nummerering af kontanterne, ville funktionen se s\u00e5ledes ud:\n",
      "\n",
      "$$ f(x) = a_0 + a_1\\cdot x + a_2\\cdot x^2 + a_3\\cdot x^3 + \\ldots $$\n",
      "\n",
      "L\u00e6g m\u00e6rke til, hvordan konstanterne ($a$'erne) er indekseret - det er d\u00e9t tal, du kan se p\u00e5 $x$-aksen p\u00e5 den nederste graf. L\u00e6g ogs\u00e5 m\u00e6rke til, at $y$-aksen i denne graf er logaritmisk."
     ]
    },
    {
     "cell_type": "code",
     "collapsed": false,
     "input": [
      "plot_interaktivt_polynomium(x2)"
     ],
     "language": "python",
     "metadata": {},
     "outputs": []
    },
    {
     "cell_type": "markdown",
     "metadata": {},
     "source": [
      "Hvad sker der med koefficienterne, n\u00e5r du tilf\u00f8jer flere ordener?"
     ]
    },
    {
     "cell_type": "heading",
     "level": 3,
     "metadata": {},
     "source": [
      "Opgave 3"
     ]
    },
    {
     "cell_type": "markdown",
     "metadata": {},
     "source": [
      "Din mor er ut\u00e5lmodig. Hun vil vide hvilken orden, polynomiet h\u00f8jst sandsynligt har haft - ellers f\u00e5r du ingen dessert. Hvad svarer du? Hvorfor mener du, at det lige pr\u00e6cis er d\u00e9n orden, der er den rigtige? Hvorfor ikke en h\u00f8jere/lavere?"
     ]
    }
   ],
   "metadata": {}
  }
 ]
}