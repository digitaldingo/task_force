{
 "metadata": {
  "name": "",
  "signature": "sha256:c6f691859daf5d45e33b51cc18b83525a4415212a4a05397e6305dcc710b2ae4"
 },
 "nbformat": 3,
 "nbformat_minor": 0,
 "worksheets": [
  {
   "cells": [
    {
     "cell_type": "code",
     "collapsed": false,
     "input": [
      "%pylab inline\n",
      "from ekstra_funktioner import *\n",
      "\n",
      "pylab.rcParams['figure.figsize'] = (10.0, 6.0)"
     ],
     "language": "python",
     "metadata": {},
     "outputs": []
    },
    {
     "cell_type": "heading",
     "level": 1,
     "metadata": {},
     "source": [
      "Find en funktion - med *machine learning*!"
     ]
    },
    {
     "cell_type": "markdown",
     "metadata": {},
     "source": [
      "Som du m\u00e5ske opdagede i forrige opgave, kan det v\u00e6re ret sv\u00e6rt at g\u00e6tte den rigtige type funktion, n\u00e5r man vil finde ud af, hvor ens data kommer fra.\n",
      "\n",
      "Tag eksempelvis opgaven med at bestemme et polynomiums orden. N\u00e5r vi v\u00e6lger en h\u00f8j orden, f\u00e5r vi et bedre fit - men v\u00e6lger vi for h\u00f8j en orden, vil funktionen lave nogle enorme udsving, og det virker ikke umiddelbart sandsynligt. S\u00e5 hvor h\u00f8jt t\u00f8r vi g\u00e5? Og hvad hvis vores data har s\u00e5 mange dimensioner, at vi ikke engang kan plotte dem og f\u00e5 en id\u00e9 om strukturen?\n",
      "\n",
      "*Machine learning* (ML) kan hj\u00e6lpe os i disse situationer. Ved hj\u00e6lp af nogle \"intelligente\" metoder fra ML kan vi helt automatisk finde en god model for vores data."
     ]
    },
    {
     "cell_type": "heading",
     "level": 3,
     "metadata": {},
     "source": [
      "Opgave 1"
     ]
    },
    {
     "cell_type": "markdown",
     "metadata": {},
     "source": [
      "Vi vil her bruge ML til automatisk at finde et polynomium, der bedst muligt passer til dataene fra f\u00f8r. Metoden en rimelig intelligent, og vil fors\u00f8ge holde polynomiet relativt simpelt, uanset hvor mange ordener vi siger, at polynomiet skal v\u00e6re.\n",
      "\n",
      "Lad os f.eks. v\u00e6lge, at metoden skal fitte et polynomium af orden 10. Her havde metoden fra f\u00f8r allerede problemer. Pr\u00f8v at k\u00f8re nedenst\u00e5ende kode og se, hvor godt den klarer det. (V\u00e6r opm\u00e6rksom p\u00e5, at det godt kan tage nogle sekunder f\u00f8r grafen kommer frem - computeren laver *ret* mange beregninger!)."
     ]
    },
    {
     "cell_type": "code",
     "collapsed": false,
     "input": [
      "x = linspace(-10,10,200)   # Vi laver igen 200 x-v\u00e6rdier.\n",
      "plot_ml_polynomium(x, orden=10)"
     ],
     "language": "python",
     "metadata": {},
     "outputs": []
    },
    {
     "cell_type": "markdown",
     "metadata": {},
     "source": [
      "Pr\u00f8v at sammenligne st\u00f8rrelsen af koefficienterne med dem, du fik i den tidligere opgave. Hvad ser du? Giver det mening?"
     ]
    },
    {
     "cell_type": "heading",
     "level": 3,
     "metadata": {},
     "source": [
      "Opgave 2"
     ]
    },
    {
     "cell_type": "markdown",
     "metadata": {},
     "source": [
      "Pr\u00f8v at \u00e6ndre ordenen i koden og se, hvordan det p\u00e5virker grafen. Hvor langt kan du g\u00e5 op, f\u00f8r fittet bliver rigtig d\u00e5rligt? Hvad sker der med st\u00f8rrelsen p\u00e5 koefficienterne her? "
     ]
    },
    {
     "cell_type": "code",
     "collapsed": false,
     "input": [
      "plot_ml_polynomium(x, orden=...)"
     ],
     "language": "python",
     "metadata": {},
     "outputs": []
    },
    {
     "cell_type": "heading",
     "level": 3,
     "metadata": {},
     "source": [
      "Opgave 3"
     ]
    },
    {
     "cell_type": "markdown",
     "metadata": {},
     "source": [
      "Lad os pr\u00f8ve endnu en ML metode! Denne tager lidt l\u00e6ngere tid at beregne, men giver ofte bedre resultater.\n",
      "\n",
      "Hvordan klarer metoden sig i forhold til den fra f\u00f8r? Hvordan ser koefficienterne ud her? Giver det mening?\n",
      "\n",
      "*Bem\u00e6rk:* Du f\u00e5r muligvis nogle \"warnings\", n\u00e5r du k\u00f8rer koden. Der er helt normalt: metoden fort\u00e6ller dig bare, at den ikke har k\u00f8rt l\u00e6nge nok til at f\u00e5 en l\u00f8sning, den er tilfreds med. Hvis du vil, kan du pr\u00f8ve at skrue op for antallet af iterationer ved at skrive `max_iter=10000` (eller et andet h\u00f8jt tal) efter `orden=...`. Nu kommer det til at tage *meget* l\u00e6ngere tid at beregne, og l\u00f8sningen bliver ikke n\u00f8dvendigvis bedre, s\u00e5 det er ikke sikkert, at det kan betale sig."
     ]
    },
    {
     "cell_type": "code",
     "collapsed": false,
     "input": [
      "plot_ml_polynomium2(x, orden=5)"
     ],
     "language": "python",
     "metadata": {},
     "outputs": []
    },
    {
     "cell_type": "heading",
     "level": 1,
     "metadata": {},
     "source": [
      "$k$ nearest neighbours"
     ]
    },
    {
     "cell_type": "markdown",
     "metadata": {},
     "source": [
      "Vi skal nu se p\u00e5 en anden type ML-metode, en s\u00e5kaldt *ikke-parametrisk metode*. Det betyder, at vi ikke selv beh\u00f8ver at g\u00e6tte p\u00e5 en funktion, som vi gjorde f\u00f8r - metoden vil helt af sig selv finde ud af, hvordan dataene ser ud.\n",
      "\n",
      "Metoden, vi ser p\u00e5 her, kaldes *$k$ nearest neighbours* (eller bare $k$-NN). Navnet kommer af, at metoden bruger de $k$ n\u00e6rmeste datapunkter (\"naboer\") til at bestemme, hvad v\u00e6rdien i et givent punkt b\u00f8r v\u00e6re. Man kan bruge disse $k$ naboer p\u00e5 forskellige m\u00e5der, n\u00e5r man skal bestemme en v\u00e6rdi. Den mest simple m\u00e5de er blot at tage gennemsnittet af naboernes v\u00e6rdier, men man kan f.eks. ogs\u00e5 bruge et v\u00e6gtet gennemsnit, hvor punkter, der ligger l\u00e6ngere v\u00e6k, vil t\u00e6lle mindre."
     ]
    },
    {
     "cell_type": "heading",
     "level": 3,
     "metadata": {},
     "source": [
      "Opgave 1"
     ]
    },
    {
     "cell_type": "markdown",
     "metadata": {},
     "source": [
      "$k$-NN har \u00e9n parameter, der skal v\u00e6lges: antallet af naboer, $k$. Med koden herunder, kan du afpr\u00f8ve forskellige v\u00e6rdier af $k$ og se, hvad der sker.\n",
      "\n",
      "Hvad sker der, n\u00e5r $k$ er lille? Hvad n\u00e5r $k$ er stor? Giver denne opf\u00f8rsel mening?"
     ]
    },
    {
     "cell_type": "code",
     "collapsed": false,
     "input": [
      "plot_interaktiv_kNN(x)"
     ],
     "language": "python",
     "metadata": {},
     "outputs": []
    },
    {
     "cell_type": "heading",
     "level": 3,
     "metadata": {},
     "source": [
      "Opgave 2"
     ]
    },
    {
     "cell_type": "markdown",
     "metadata": {},
     "source": [
      "Du kan ogs\u00e5 pr\u00f8ve at \u00e6ndre den metode, gennemsnittet af naboerne beregnes med. \"`uniform`\" vil bruge et helt almindeligt gennemsnit, mens \"`distance`\" vil v\u00e6gte gennemsnittet med afstanden til punkterne. Giver grafen stadig mening, n\u00e5r du \u00e6ndre metoden, gennemsnittet beregnes med?"
     ]
    },
    {
     "cell_type": "heading",
     "level": 1,
     "metadata": {},
     "source": [
      "$K$-means clustering"
     ]
    },
    {
     "cell_type": "markdown",
     "metadata": {},
     "source": [
      "Der er ogs\u00e5 andre m\u00e5der, man kan beskrive sine data p\u00e5, end blot ved at fitte end funktion til dem. Nogle gange vil man f.eks. gerne finde grupperinger eller klynger af data.\n",
      "\n",
      "*$K$-means clustering* er en ML-metode, der netop pr\u00f8ver at finde klynger af datapunkter. Metoden er ret simpel, men virker ofte overraskende godt - faktisk er det ofte den metode, der bliver brugt, n\u00e5r f.eks. store virksomheder vil finde bestemte typer af kunder. Desv\u00e6rre er metoden ikke intelligent nok til at selv at finde det \"rigtige\" antal klynger, s\u00e5 det m\u00e5 man hj\u00e6lpe den med selv.\n",
      "\n",
      "Lad os som eksempel pr\u00f8ve at finde klynger i farverne i et billede:"
     ]
    },
    {
     "cell_type": "code",
     "collapsed": false,
     "input": [
      "billede = Billede(\"http://th02.deviantart.net/fs71/PRE/f/2014/264/b/5/after_the_storm_by_joelbelessa-d801fsx.jpg\")\n",
      "imshow(billede.billede)"
     ],
     "language": "python",
     "metadata": {},
     "outputs": []
    },
    {
     "cell_type": "markdown",
     "metadata": {},
     "source": [
      "Umiddelbart vil vi nok forvente at finde nogle klynger, der representerer gr\u00f8n, bl\u00e5 og gul (som er en blanding af r\u00f8d og gr\u00f8n).\n",
      "\n",
      "Lad os pr\u00f8ve at plotte de enkelte pixels' farver mod hinanden, s\u00e5 vi kan se hvordan farverne ligger fordelt. Da hver pixel best\u00e5r af tre farver (r\u00f8d, gr\u00f8n og bl\u00e5), skal vi bruge et 3D-plot for at kunne vise punkterne. Dog har billedet s\u00e5 mange pixels, at computeren vil f\u00e5 sv\u00e6rt ved at tegne dem, s\u00e5 vi plotter i stedet farvne mod hinanden med konturplots (bem\u00e6rk at farveskalaen er logaritmisk, da man ellers ikke ville kunne se farver, der kun tilh\u00f8rte nogle f\u00e5 pixels).\n",
      "V\u00e6rdierne p\u00e5 akserne angiver hvor \"m\u00e6ttet\", farverne er. 0 betyder at farven slet ikke er der, mens 255 er fuldt m\u00e6ttet. Sort vil v\u00e6re $(r,g,b) = (0,0,0)$, mens hvid vil v\u00e6re $(r,g,b) = (255,255,255)$."
     ]
    },
    {
     "cell_type": "code",
     "collapsed": false,
     "input": [
      "plot_farver(billede)"
     ],
     "language": "python",
     "metadata": {},
     "outputs": []
    },
    {
     "cell_type": "heading",
     "level": 3,
     "metadata": {},
     "source": [
      "Opgave 1"
     ]
    },
    {
     "cell_type": "markdown",
     "metadata": {},
     "source": [
      "Hvor mange klynger synes du, du kan se i de tre ovenst\u00e5ende plots?"
     ]
    },
    {
     "cell_type": "heading",
     "level": 3,
     "metadata": {},
     "source": [
      "Opgave 2"
     ]
    },
    {
     "cell_type": "markdown",
     "metadata": {},
     "source": [
      "F\u00f8lgende kode vil lave en $K$-means clustering af det tre-dimensionelle farverum (dimensionerne er \"r\u00f8d\", \"gr\u00f8n\" og \"bl\u00e5\"). Pr\u00f8v at angive nogle forskellige antal klynger og se hvilke, metoden finder. (Igen laver computeren en hel del beregninger, s\u00e5 der kan godt g\u00e5 nogle sekunder, f\u00f8r du ser noget).\n",
      "\n",
      "Giver de fundne klynger mening? (De r\u00f8de krydser angiver klyngernes centre)."
     ]
    },
    {
     "cell_type": "code",
     "collapsed": false,
     "input": [
      "plot_kMeans(billede, klynger=5)"
     ],
     "language": "python",
     "metadata": {},
     "outputs": []
    },
    {
     "cell_type": "heading",
     "level": 3,
     "metadata": {},
     "source": [
      "Bonusopgave"
     ]
    },
    {
     "cell_type": "markdown",
     "metadata": {},
     "source": [
      "De fundne klynger representerer de mest \"gennemsnitlige\" farver i billedet. Hvis vi derfor \u00e6ndrer farven for hver enkelt pixel til farven af den klynge, pixlen ligger t\u00e6ttest p\u00e5, kan vi effektivt reducere antallet af farver i billedet. Nedenst\u00e5ende kode vil g\u00f8re lige pr\u00e6cis dette, og vise dig det resulterende billede. Pr\u00f8v at teste med et forskelligt antal klynger."
     ]
    },
    {
     "cell_type": "code",
     "collapsed": false,
     "input": [
      "plot_reducerede_farver(billede, klynger=5)"
     ],
     "language": "python",
     "metadata": {},
     "outputs": []
    },
    {
     "cell_type": "markdown",
     "metadata": {},
     "source": [
      "Pr\u00f8v at sammenligne med det originale billede. Ligner de fundne farve-klynger virkelig gennemsnitsfarverne i billedet?"
     ]
    },
    {
     "cell_type": "heading",
     "level": 1,
     "metadata": {},
     "source": [
      "Feature selection"
     ]
    },
    {
     "cell_type": "markdown",
     "metadata": {},
     "source": [
      "N\u00e5r man arbejder med rigtige problemstillinger indenfor dataanalyse, kommer man ofte ud for, at ens datapunkter har hundredevis, hvis ikke tusindvis, af dimensioner. Disse dimensioner kunne v\u00e6re m\u00e5linger af elementarpartikler i flere forskellige detektorer, basepar i en DNA-sekvens, informationer om en kunde eller noget helt syvende. Ofte vil man dog gerne vide hvilke dimensioner, der har st\u00f8rst betydning for en bestemt problemstilling. M\u00e5ske vil man gerne vide, hvilke DNA-basepar, der ofte forekommer ved en bestemt type sygdom, eller ogs\u00e5 vil man bare gerne vide, hvad en kunde virker mest interesseret i.\n",
      "\n",
      "I machine learning jargon kaldes disse dimensioner for *features*, og der er skrevet tykke b\u00f8ger om, hvordan man finder de mest betydningsfulde features - s\u00e5kaldt *feature selection*. Vi skal nu pr\u00f8ve kr\u00e6fter med en af de bedste metoder til feature selection, nemlig *random forests*.\n",
      "\n",
      "Som datas\u00e6t vil vi bruge listen over passagerer p\u00e5 Titanic, og s\u00e5 vil vi pr\u00f8ve at finde de features, der betyder mest i forhold til, om en person ville overleve ulykken eller ej."
     ]
    },
    {
     "cell_type": "code",
     "collapsed": false,
     "input": [
      "data = titanic_data()\n",
      "#data   # Fjern udkommenteringen for denne linje, hvis du vil se en tabel med dataene."
     ],
     "language": "python",
     "metadata": {},
     "outputs": []
    },
    {
     "cell_type": "markdown",
     "metadata": {},
     "source": [
      "Vi vil kun besk\u00e6ftige os med fem features fra datas\u00e6ttet:\n",
      "\n",
      "- `pclass`: om passageren rejse p\u00e5 1., 2. eller 3. klasse.\n",
      "- `sex`: om passageren var mand eller kvinde.\n",
      "- `age`: passagerens alder.\n",
      "- `fare`: hvor meget passageren havde betalt for billetten.\n",
      "- `who`: om passageren var voksen mand, voksen kvinde eller barn.\n",
      "\n",
      "Til sidst inkluderer vi ogs\u00e5 information om, hvorvidt passageren overlevede (\"`survived`\"), da vores metode skal bruge dette til at tr\u00e6ne sig selv ud fra."
     ]
    },
    {
     "cell_type": "heading",
     "level": 3,
     "metadata": {},
     "source": [
      "Opgave 1"
     ]
    },
    {
     "cell_type": "markdown",
     "metadata": {},
     "source": [
      "Overvej hvilken r\u00e6kkef\u00f8lge af disse features, du tror er vigtigst for, om man overlevede Titanic-ulykken."
     ]
    },
    {
     "cell_type": "markdown",
     "metadata": {},
     "source": [
      "Lad os tr\u00e6kke disse features ud af datas\u00e6ttet:"
     ]
    },
    {
     "cell_type": "code",
     "collapsed": false,
     "input": [
      "features = [\"pclass\",\"sex\",\"age\",\"fare\",\"who\",\"survived\"]\n",
      "subset = udvaelg_features(data, features)\n",
      "#subset   # Fjern udkommenteringen for denne linje, hvis du vil se en tabel med dataene."
     ],
     "language": "python",
     "metadata": {},
     "outputs": []
    },
    {
     "cell_type": "markdown",
     "metadata": {},
     "source": [
      "Lad os nu bruge vores random forest-metode og se, hvad der er vigtigst for at overleve. Resultatet vises i et s\u00f8jlediagram - jo h\u00f8jere s\u00f8jlen er, jo vigtigere er den givne feature for om man overlever eller ej."
     ]
    },
    {
     "cell_type": "code",
     "collapsed": false,
     "input": [
      "plot_feature_selection(subset, features)"
     ],
     "language": "python",
     "metadata": {},
     "outputs": []
    },
    {
     "cell_type": "heading",
     "level": 3,
     "metadata": {},
     "source": [
      "Opgave 2"
     ]
    },
    {
     "cell_type": "markdown",
     "metadata": {},
     "source": [
      "Kig p\u00e5 s\u00f8jlediagrammet - ser r\u00e6kkef\u00f8lgen ud, som du troede? Giver den mening?"
     ]
    },
    {
     "cell_type": "heading",
     "level": 3,
     "metadata": {},
     "source": [
      "Opgave 3"
     ]
    },
    {
     "cell_type": "markdown",
     "metadata": {},
     "source": [
      "Random forests er kun \u00e9n metode til at lave feature selection - der findes mange, mange andre. Siden der findes s\u00e5 mange andre, hvor meget tror du s\u00e5, at man kan stole p\u00e5 ovenst\u00e5ende r\u00e6kkef\u00f8lge?\n",
      "\n",
      "Hvor meget kunne du overbevise dig selv om, at r\u00e6kkef\u00f8lgen gav god mening? Har du \u00e6ndret opfattelse nu? \n",
      "\n",
      "Og hvad fort\u00e6ller det dig om, hvor forsigtig man skal v\u00e6re, n\u00e5r man tolker sine resultater?"
     ]
    }
   ],
   "metadata": {}
  }
 ]
}